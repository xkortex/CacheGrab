{
 "cells": [
  {
   "cell_type": "code",
   "execution_count": 1,
   "metadata": {},
   "outputs": [
    {
     "name": "stdout",
     "output_type": "stream",
     "text": [
      "/home/mike/py/mylib/CacheGrab\n"
     ]
    }
   ],
   "source": [
    "import os\n",
    "try:                  # get to root of project\n",
    "    print(od)\n",
    "except NameError:\n",
    "    od = os.getcwd()\n",
    "    \n",
    "os.chdir(od + '/../..')\n",
    "print(os.getcwd())"
   ]
  },
  {
   "cell_type": "code",
   "execution_count": 2,
   "metadata": {},
   "outputs": [],
   "source": [
    "import errno\n",
    "import collections\n",
    "from collections import Hashable\n",
    "from hashlib import md5\n",
    "import requests\n",
    "import json\n",
    "from time import sleep\n",
    "import functools"
   ]
  },
  {
   "cell_type": "code",
   "execution_count": 3,
   "metadata": {},
   "outputs": [],
   "source": [
    "import cachegrab as cg\n",
    "dummy = cg.DummyRequests"
   ]
  },
  {
   "cell_type": "code",
   "execution_count": 4,
   "metadata": {},
   "outputs": [],
   "source": [
    "bcg = cg.BasicCachingGetter()\n",
    "if False:\n",
    "    bcg.purge()"
   ]
  },
  {
   "cell_type": "code",
   "execution_count": 15,
   "metadata": {},
   "outputs": [
    {
     "name": "stdout",
     "output_type": "stream",
     "text": [
      "💰 Basic cacher called\n"
     ]
    }
   ],
   "source": [
    "@cg.BasicCachingGetter()\n",
    "def get(url='', params=None, delay=0.5, **kwargs):\n",
    "    return dummy.get(url=url, params=params, delay=delay, **kwargs).json()"
   ]
  },
  {
   "cell_type": "code",
   "execution_count": 20,
   "metadata": {},
   "outputs": [
    {
     "name": "stdout",
     "output_type": "stream",
     "text": [
      "### b'[[\"@args\", []], [\"@kwargs\", []], [\"@name\", \"get\"]]'\n",
      "✬✬ Inner decorated function called\n",
      "✬✬ [[\"@args\", []], [\"@kwargs\", []], [\"@name\", \"get\"]]\n",
      "✬✬ ./cache//42bf4b8d83c9b34bc1e55f663a380d6e.json\n",
      "✬✬ loading\n"
     ]
    },
    {
     "data": {
      "text/plain": [
       "{'RetrievedDate': '2018-08-18T15:27:21.518559',\n",
       " 'done': True,\n",
       " 'records': [{'AccountId': '1337BEEF',\n",
       "   'Amount': 31415.926,\n",
       "   'CreatedDate': '2015-07-13T07:30:24.000+0000',\n",
       "   'IsClosed': True,\n",
       "   'IsWon': False,\n",
       "   'Name': 'FooBar Opportunity AAA',\n",
       "   'attributes': {'type': 'Opportunity', 'url': '/services/data/foo/bar'}}],\n",
       " 'totalSize': 1}"
      ]
     },
     "execution_count": 20,
     "metadata": {},
     "output_type": "execute_result"
    }
   ],
   "source": [
    "get(_flush=False)"
   ]
  },
  {
   "cell_type": "code",
   "execution_count": 7,
   "metadata": {},
   "outputs": [],
   "source": [
    "def getFirst(item):\n",
    "    return item[0]"
   ]
  },
  {
   "cell_type": "code",
   "execution_count": 8,
   "metadata": {},
   "outputs": [
    {
     "name": "stdout",
     "output_type": "stream",
     "text": [
      "frozenset({'a', 'spam', '2', '1', 'b'})\n",
      "(('1', 999), ('2', 777), ('a', 'foo'), ('b', 'bar'), ('spam', 'eggs'))\n"
     ]
    }
   ],
   "source": [
    "payload = {'a': 'foo', 'spam': 'eggs', 'b': 'bar', '1': 999, '2': 777}\n",
    "keys = frozenset(payload)\n",
    "frozen = ((key, payload[key]) for key in sorted(payload))\n",
    "frozen = tuple(frozen)\n",
    "print(keys)\n",
    "print(frozen)\n",
    "# print(tuple(sorted(frozen, key=getFirst)))\n",
    "# tuple(sorted(payload.items()))"
   ]
  },
  {
   "cell_type": "code",
   "execution_count": null,
   "metadata": {},
   "outputs": [],
   "source": []
  }
 ],
 "metadata": {
  "kernelspec": {
   "display_name": "Python 3",
   "language": "python",
   "name": "python3"
  },
  "language_info": {
   "codemirror_mode": {
    "name": "ipython",
    "version": 3
   },
   "file_extension": ".py",
   "mimetype": "text/x-python",
   "name": "python",
   "nbconvert_exporter": "python",
   "pygments_lexer": "ipython3",
   "version": "3.5.2"
  }
 },
 "nbformat": 4,
 "nbformat_minor": 2
}
