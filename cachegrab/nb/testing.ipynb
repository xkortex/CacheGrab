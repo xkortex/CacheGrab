{
 "cells": [
  {
   "cell_type": "code",
   "execution_count": 1,
   "metadata": {},
   "outputs": [],
   "source": [
    "import os\n",
    "try:                  # get to root of project\n",
    "    print(od)\n",
    "except NameError:\n",
    "    od = os.getcwd()\n",
    "    \n",
    "os.chdir(od + '/../..')\n",
    "print(os.getcwd())"
   ]
  },
  {
   "cell_type": "code",
   "execution_count": 2,
   "metadata": {},
   "outputs": [],
   "source": [
    "import errno\n",
    "import collections\n",
    "from collections import Hashable\n",
    "from hashlib import md5\n",
    "import requests\n",
    "import json\n",
    "from time import sleep\n",
    "import functools"
   ]
  },
  {
   "cell_type": "code",
   "execution_count": 3,
   "metadata": {},
   "outputs": [],
   "source": [
    "import cachegrab as cg\n",
    "dummy = cg.DummyRequests"
   ]
  },
  {
   "cell_type": "code",
   "execution_count": 4,
   "metadata": {},
   "outputs": [],
   "source": [
    "bcg = cg.BasicCachingGetter()\n",
    "if False:\n",
    "    bcg.purge()"
   ]
  },
  {
   "cell_type": "code",
   "execution_count": 5,
   "metadata": {},
   "outputs": [
    {
     "name": "stdout",
     "output_type": "stream",
     "text": [
      "💰 Basic cacher called\n"
     ]
    }
   ],
   "source": [
    "@cg.BasicCachingGetter()\n",
    "def get(url='', params=None, delay=0.5, **kwargs):\n",
    "    return dummy.get(url=url, params=params, delay=delay, **kwargs).json()"
   ]
  },
  {
   "cell_type": "code",
   "execution_count": 6,
   "metadata": {},
   "outputs": [
    {
     "name": "stdout",
     "output_type": "stream",
     "text": [
      "### b'{\"@kwargs\": {}, \"@args\": [], \"@name\": \"get\"}'\n",
      "✬✬ Inner decorated function called\n",
      "✬✬ {\"@kwargs\": {}, \"@args\": [], \"@name\": \"get\"}\n",
      "✬✬ ./cache//5be0019c14639ba2497905bcf5e4362e.json\n",
      "✬✬ loading\n"
     ]
    },
    {
     "data": {
      "text/plain": [
       "{'RetrievedDate': '2018-08-18T15:07:18.448047',\n",
       " 'done': True,\n",
       " 'records': [{'AccountId': '1337BEEF',\n",
       "   'Amount': 31415.926,\n",
       "   'CreatedDate': '2015-07-13T07:30:24.000+0000',\n",
       "   'IsClosed': True,\n",
       "   'IsWon': False,\n",
       "   'Name': 'FooBar Opportunity AAA',\n",
       "   'attributes': {'type': 'Opportunity', 'url': '/services/data/foo/bar'}}],\n",
       " 'totalSize': 1}"
      ]
     },
     "execution_count": 6,
     "metadata": {},
     "output_type": "execute_result"
    }
   ],
   "source": [
    "get(_flush=False)"
   ]
  },
  {
   "cell_type": "code",
   "execution_count": 28,
   "metadata": {},
   "outputs": [],
   "source": [
    "def getFirst(item):\n",
    "    return item[0]"
   ]
  },
  {
   "cell_type": "code",
   "execution_count": 45,
   "metadata": {},
   "outputs": [
    {
     "name": "stdout",
     "output_type": "stream",
     "text": [
      "frozenset({'2', 'spam', 'b', 'a', '1'})\n",
      "(('1', 999), ('2', 777), ('a', 'foo'), ('b', 'bar'), ('spam', 'eggs'))\n"
     ]
    }
   ],
   "source": [
    "payload = {'a': 'foo', 'spam': 'eggs', 'b': 'bar', '1': 999, '2': 777}\n",
    "keys = frozenset(payload)\n",
    "frozen = ((key, payload[key]) for key in sorted(payload))\n",
    "frozen = tuple(frozen)\n",
    "print(keys)\n",
    "print(frozen)\n",
    "# print(tuple(sorted(frozen, key=getFirst)))\n",
    "# tuple(sorted(payload.items()))"
   ]
  },
  {
   "cell_type": "code",
   "execution_count": 34,
   "metadata": {},
   "outputs": [
    {
     "data": {
      "text/plain": [
       "['1', '2', 'a', 'b', 'spam']"
      ]
     },
     "execution_count": 34,
     "metadata": {},
     "output_type": "execute_result"
    }
   ],
   "source": [
    "sorted(payload)"
   ]
  },
  {
   "cell_type": "code",
   "execution_count": 35,
   "metadata": {},
   "outputs": [
    {
     "data": {
      "text/plain": [
       "'{\"2\": 777, \"spam\": \"eggs\", \"1\": 999, \"a\": \"foo\", \"b\": \"bar\"}'"
      ]
     },
     "execution_count": 35,
     "metadata": {},
     "output_type": "execute_result"
    }
   ],
   "source": [
    "json.dumps(payload)"
   ]
  },
  {
   "cell_type": "code",
   "execution_count": 46,
   "metadata": {},
   "outputs": [
    {
     "data": {
      "text/plain": [
       "{'1': 999, '2': 777, 'a': 'foo', 'b': 'bar', 'spam': 'eggs'}"
      ]
     },
     "execution_count": 46,
     "metadata": {},
     "output_type": "execute_result"
    }
   ],
   "source": [
    "dict({a: b for a, b in frozen})"
   ]
  },
  {
   "cell_type": "code",
   "execution_count": 47,
   "metadata": {},
   "outputs": [
    {
     "data": {
      "text/plain": [
       "[('1', 999), ('2', 777), ('a', 'foo'), ('b', 'bar'), ('spam', 'eggs')]"
      ]
     },
     "execution_count": 47,
     "metadata": {},
     "output_type": "execute_result"
    }
   ],
   "source": [
    "[(a, b) for (a,b ) in frozen]"
   ]
  },
  {
   "cell_type": "code",
   "execution_count": 48,
   "metadata": {},
   "outputs": [
    {
     "data": {
      "text/plain": [
       "{'1': 999, '2': 777, 'a': 'foo', 'b': 'bar', 'spam': 'eggs'}"
      ]
     },
     "execution_count": 48,
     "metadata": {},
     "output_type": "execute_result"
    }
   ],
   "source": [
    "dict(frozen)"
   ]
  },
  {
   "cell_type": "code",
   "execution_count": 56,
   "metadata": {},
   "outputs": [
    {
     "data": {
      "text/plain": [
       "('get', [], {'1': 999, '2': 777, 'a': 'foo', 'b': 'bar', 'spam': 'eggs'})"
      ]
     },
     "execution_count": 56,
     "metadata": {},
     "output_type": "execute_result"
    }
   ],
   "source": [
    "def freeze_sig(f=None, *args, **kwargs):\n",
    "    \"\"\" Freeze a function signature for serialization\n",
    "    :param f: function that is being memoized\n",
    "    :param args: arguments fed to that function\n",
    "    :param kwargs: keyword arguments fed to that function\n",
    "    :return: JSONified string of function signature\n",
    "    \"\"\"\n",
    "    name = f.__name__ if f is not None else None\n",
    "    frozen = tuple((key, kwargs[key]) for key in sorted(kwargs))\n",
    "    return json.dumps((('@args', args), ('@kwargs', frozen), ('@name', name)))\n",
    "\n",
    "def thaw_sig(string):\n",
    "    \"\"\" Unfreeze a frozen signature back to args and kwargs\n",
    "    :param string: Frozen signature\n",
    "    :return:\n",
    "    \"\"\"\n",
    "    dd = dict(json.loads(string))\n",
    "    __args = dd.get('@args') # sanitize???\n",
    "    __kwargs = dict(dd.get('@kwargs'))\n",
    "    __name = dd.get('@name')\n",
    "    return __name, __args, __kwargs\n",
    "\n",
    "\n",
    "ice = freeze_sig(get, **payload)\n",
    "thaw_sig(ice)"
   ]
  },
  {
   "cell_type": "code",
   "execution_count": null,
   "metadata": {},
   "outputs": [],
   "source": []
  }
 ],
 "metadata": {
  "kernelspec": {
   "display_name": "Python 3",
   "language": "python",
   "name": "python3"
  },
  "language_info": {
   "codemirror_mode": {
    "name": "ipython",
    "version": 3
   },
   "file_extension": ".py",
   "mimetype": "text/x-python",
   "name": "python",
   "nbconvert_exporter": "python",
   "pygments_lexer": "ipython3",
   "version": "3.5.2"
  }
 },
 "nbformat": 4,
 "nbformat_minor": 2
}
