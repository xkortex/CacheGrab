{
 "cells": [
  {
   "cell_type": "code",
   "execution_count": 1,
   "metadata": {},
   "outputs": [
    {
     "name": "stdout",
     "output_type": "stream",
     "text": [
      "/home/mike/py/mylib/CacheGrab\n"
     ]
    }
   ],
   "source": [
    "import os\n",
    "try:                  # get to root of project\n",
    "    print(od)\n",
    "except NameError:\n",
    "    od = os.getcwd()\n",
    "    \n",
    "os.chdir(od + '/../..')\n",
    "print(os.getcwd())"
   ]
  },
  {
   "cell_type": "code",
   "execution_count": 68,
   "metadata": {},
   "outputs": [],
   "source": [
    "import errno\n",
    "import collections\n",
    "from collections import Hashable\n",
    "from hashlib import md5\n",
    "import requests\n",
    "import json\n",
    "from time import sleep\n",
    "# import decorator # basically obsolete\n",
    "import functools"
   ]
  },
  {
   "cell_type": "code",
   "execution_count": 3,
   "metadata": {},
   "outputs": [
    {
     "data": {
      "text/plain": [
       "module"
      ]
     },
     "execution_count": 3,
     "metadata": {},
     "output_type": "execute_result"
    }
   ],
   "source": [
    "type(requests)"
   ]
  },
  {
   "cell_type": "code",
   "execution_count": 4,
   "metadata": {},
   "outputs": [],
   "source": [
    "import cachegrab as cg"
   ]
  },
  {
   "cell_type": "code",
   "execution_count": 5,
   "metadata": {},
   "outputs": [],
   "source": [
    "from cachegrab.utils import dummy"
   ]
  },
  {
   "cell_type": "markdown",
   "metadata": {},
   "source": [
    "# Architecture\n",
    "\n",
    "Basic idea is to create a caching decorator that allows any arbitrary function to be cached effortlessly and in an extensible manner\n",
    "\n",
    "```\n",
    "@cachegrab(someCacherProperties='whatever')\n",
    "def my_complex_function(target, foo=5, bar='stuff'):\n",
    "    do_a_slow_thing()\n",
    "    return myValue\n",
    "```    \n",
    "In other words, like @lru_cache, but the backend is configurable. Or, like requests_cache, but the function is configurable. Best of both worlds. "
   ]
  },
  {
   "cell_type": "markdown",
   "metadata": {},
   "source": [
    "In order to do this, we must do several things: \n",
    "\n",
    "* connect to some caching engine\n",
    "* throw some useful errors if this connection fails\n",
    "* wrap an arbitrary function call\n",
    "* freeze the signature of that call\n",
    "* use a hashable variant (or some voodoo if strict=False) of the signature to key the cache\n",
    "* optionally store the signature with the data\n",
    "* sensibly return the value\n",
    "* maybe even do some metrics along the way\n",
    "\n",
    "Things we want to be able to configure:\n",
    "\n",
    "* Backend storage format (json, sql, nosql, etc)\n",
    "* Cache replacement policy (everything, LRU, random, etc)\n",
    "* timeout\n",
    "* blocking properties\n",
    "* expiration/refresh time/conditions\n",
    "\n",
    "Bonus round: \n",
    "\n",
    "* interoperate with iterables\n",
    "* tqdm\n",
    "* parallelize! \n",
    "\n",
    "Stages:\n",
    "\n",
    "* \"dumb\" fully json-based disk caching\n",
    "* better file management\n",
    "* expiration\n",
    "* more sophisticated engine"
   ]
  },
  {
   "cell_type": "markdown",
   "metadata": {},
   "source": [
    "# Utils"
   ]
  },
  {
   "cell_type": "code",
   "execution_count": 53,
   "metadata": {},
   "outputs": [],
   "source": [
    "def make_path(path):\n",
    "    \"\"\"\n",
    "    Make a path, ignoring already-exists error. Python 2/3 compliant.\n",
    "    Catch any errors generated, and skip it if it's EEXIST.\n",
    "    :param path: Path to create\n",
    "    :return:\n",
    "    \"\"\"\n",
    "    try:\n",
    "        os.makedirs(path)\n",
    "    except OSError as exception:\n",
    "        if exception.errno != errno.EEXIST:\n",
    "            raise\n",
    "            \n",
    "def freeze_sig(f=None, *args, **kwargs):\n",
    "    name = f.__name__ if f is not None else None\n",
    "    return json.dumps({'@args': args, '@kwargs': kwargs, '@name': name})\n",
    "\n",
    "def thaw_sig(string):\n",
    "    dd = json.loads(string)\n",
    "    __args = dd.get('@args') # sanitize???\n",
    "    __kwargs = dd.get('@kwargs')\n",
    "    __name = dd.get('@name')\n",
    "    return __name, __args, __kwargs\n",
    "\n",
    "def hash_md5(stringable, strict=True):\n",
    "    \"\"\"\n",
    "\n",
    "    :param stringable:\n",
    "    :return:\n",
    "    \"\"\"\n",
    "    if strict and not isinstance(stringable, Hashable):\n",
    "        raise TypeError('Argument of type {} is not hashable. '\n",
    "                        'Use a hashable object, or set strict=False'.format(type(stringable)))\n",
    "\n",
    "    \n",
    "    md5_key = md5(str(stringable).encode()).hexdigest()\n",
    "    return md5_key\n",
    "\n",
    "def to_filename(args, kwargs):\n",
    "    print('calling to filename. args: {} kwargs: {}'.format(args, kwargs))\n",
    "#     print(hash_md5(2))"
   ]
  },
  {
   "cell_type": "markdown",
   "metadata": {},
   "source": [
    "==============================================================================="
   ]
  },
  {
   "cell_type": "code",
   "execution_count": 6,
   "metadata": {},
   "outputs": [
    {
     "name": "stdout",
     "output_type": "stream",
     "text": [
      "<class 'requests.models.Response'>\n"
     ]
    },
    {
     "data": {
      "text/plain": [
       "{'RetrievedDate': '2018-08-18T10:18:26.537177',\n",
       " 'done': True,\n",
       " 'records': [{'AccountId': '1337BEEF',\n",
       "   'Amount': 31415.926,\n",
       "   'CreatedDate': '2015-07-13T07:30:24.000+0000',\n",
       "   'IsClosed': True,\n",
       "   'IsWon': False,\n",
       "   'Name': 'FooBar Opportunity AAA',\n",
       "   'attributes': {'type': 'Opportunity', 'url': '/services/data/foo/bar'}}],\n",
       " 'totalSize': 1}"
      ]
     },
     "execution_count": 6,
     "metadata": {},
     "output_type": "execute_result"
    }
   ],
   "source": [
    "resp = dummy.get('foo', params=None)\n",
    "print(type(resp))\n",
    "resp.json()"
   ]
  },
  {
   "cell_type": "code",
   "execution_count": 7,
   "metadata": {},
   "outputs": [
    {
     "name": "stdout",
     "output_type": "stream",
     "text": [
      "Args: ('foo', 'bar')\n",
      "kwArgs: {'eggs': True, 'spam': 2, 'pi': 3.14}\n"
     ]
    },
    {
     "data": {
      "text/plain": [
       "'{\"args\": [\"foo\", \"bar\"], \"kwargs\": {\"eggs\": true, \"spam\": 2, \"pi\": 3.14}}'"
      ]
     },
     "execution_count": 7,
     "metadata": {},
     "output_type": "execute_result"
    }
   ],
   "source": [
    "def try_json(*args, **kwargs):\n",
    "    # Pack args and kwargs into a JSON. If this fails, it's because one or more of the arguments is not serializable\n",
    "    print(\"Args: {}\".format(args))\n",
    "    print(\"kwArgs: {}\".format(kwargs))\n",
    "    data = {'args': args, 'kwargs': kwargs}\n",
    "    j = json.dumps(data)\n",
    "    return(j)\n",
    "\n",
    "try_json('foo', 'bar', spam=2, eggs=True, pi=3.14)"
   ]
  },
  {
   "cell_type": "code",
   "execution_count": 8,
   "metadata": {},
   "outputs": [
    {
     "name": "stdout",
     "output_type": "stream",
     "text": [
      "Args: ('foo', 'bar')\n",
      "kwArgs: {'eggs': True, 'spam': 2, 'pi': 3.14}\n",
      "['foo', 'bar']\n",
      "{'eggs': True, 'spam': 2, 'pi': 3.14}\n",
      "Args: ('foo', 'bar')\n",
      "kwArgs: {'eggs': True, 'spam': 2, 'pi': 3.14}\n"
     ]
    },
    {
     "data": {
      "text/plain": [
       "'{\"args\": [\"foo\", \"bar\"], \"kwargs\": {\"eggs\": true, \"spam\": 2, \"pi\": 3.14}}'"
      ]
     },
     "execution_count": 8,
     "metadata": {},
     "output_type": "execute_result"
    }
   ],
   "source": [
    "jtest = try_json('foo', 'bar', spam=2, eggs=True, pi=3.14)\n",
    "jdict = json.loads(jtest)\n",
    "print(jdict['args'])\n",
    "print(jdict['kwargs'])\n",
    "\n",
    "try_json(*jdict['args'], **jdict['kwargs'])"
   ]
  },
  {
   "cell_type": "code",
   "execution_count": 9,
   "metadata": {},
   "outputs": [],
   "source": [
    "class memoized(object):\n",
    "    '''Basic Memoizing Decorator. Caches a function's return value each time it is called.\n",
    "    If called later with the same arguments, the cached value is returned\n",
    "    (not reevaluated).\n",
    "    From the python website, https://wiki.python.org/moin/PythonDecoratorLibrary#Memoize\n",
    "    '''\n",
    "\n",
    "    def __init__(self, func):\n",
    "        self.func = func\n",
    "        self.cache = {}\n",
    "\n",
    "    def __call__(self, *args):\n",
    "        if not isinstance(args, collections.Hashable):\n",
    "            # uncacheable. a list, for instance.\n",
    "            # better to not cache than blow up.\n",
    "            return self.func(*args)\n",
    "        if args in self.cache:\n",
    "            return self.cache[args]\n",
    "        else:\n",
    "            value = self.func(*args)\n",
    "            self.cache[args] = value\n",
    "            return value\n",
    "\n",
    "    def __repr__(self):\n",
    "        '''Return the function's docstring.'''\n",
    "        return self.func.__doc__\n",
    "\n",
    "    def __get__(self, obj, objtype):\n",
    "        '''Support instance methods.'''\n",
    "        return functools.partial(self.__call__, obj)\n"
   ]
  },
  {
   "cell_type": "code",
   "execution_count": 10,
   "metadata": {},
   "outputs": [],
   "source": [
    "class hmemoized(object):\n",
    "    '''Hashing Memoizing Decorator. Caches a function's return value each time it is called.\n",
    "    If called later with the same arguments, the cached value is returned\n",
    "    (not reevaluated).\n",
    "    From the python website, https://wiki.python.org/moin/PythonDecoratorLibrary#Memoize\n",
    "    '''\n",
    "\n",
    "    def __init__(self, func):\n",
    "        self.func = func\n",
    "        print(self.func)\n",
    "        self.cache = {}\n",
    "\n",
    "    def __call__(self, *args, **kwargs):\n",
    "        key = try_json(*args, **kwargs) # will raise a TypeError from JSON if any args or kwargs are not serializable\n",
    "        if key in self.cache:\n",
    "            return self.cache[key]\n",
    "        else:\n",
    "            value = self.func(*args, **kwargs)\n",
    "            self.cache[key] = value\n",
    "            return value\n",
    "\n",
    "    def __repr__(self):\n",
    "        '''Return the function's docstring.'''\n",
    "        return self.func.__doc__\n",
    "\n",
    "    def __get__(self, obj, objtype):\n",
    "        '''Support instance methods.'''\n",
    "        return functools.partial(self.__call__, obj)"
   ]
  },
  {
   "cell_type": "code",
   "execution_count": null,
   "metadata": {},
   "outputs": [],
   "source": []
  },
  {
   "cell_type": "code",
   "execution_count": 11,
   "metadata": {},
   "outputs": [],
   "source": [
    "dd = requests.Response()"
   ]
  },
  {
   "cell_type": "code",
   "execution_count": 12,
   "metadata": {},
   "outputs": [],
   "source": [
    "dd._content = bytes('fooz', 'utf8') "
   ]
  },
  {
   "cell_type": "code",
   "execution_count": 13,
   "metadata": {},
   "outputs": [
    {
     "data": {
      "text/plain": [
       "'fooz'"
      ]
     },
     "execution_count": 13,
     "metadata": {},
     "output_type": "execute_result"
    }
   ],
   "source": [
    "dd.text"
   ]
  },
  {
   "cell_type": "code",
   "execution_count": 14,
   "metadata": {},
   "outputs": [],
   "source": [
    "x = 'fooz'"
   ]
  },
  {
   "cell_type": "code",
   "execution_count": 15,
   "metadata": {},
   "outputs": [],
   "source": [
    "@memoized\n",
    "def get(url, params=None, delay=1):\n",
    "    \"\"\"Some sort of docstring\"\"\"\n",
    "    return dummy.get(url, params=params, delay=delay)"
   ]
  },
  {
   "cell_type": "code",
   "execution_count": 16,
   "metadata": {},
   "outputs": [
    {
     "data": {
      "text/plain": [
       "{'RetrievedDate': '2018-08-18T10:18:26.935547',\n",
       " 'done': True,\n",
       " 'records': [{'AccountId': '1337BEEF',\n",
       "   'Amount': 31415.926,\n",
       "   'CreatedDate': '2015-07-13T07:30:24.000+0000',\n",
       "   'IsClosed': True,\n",
       "   'IsWon': False,\n",
       "   'Name': 'FooBar Opportunity AAA',\n",
       "   'attributes': {'type': 'Opportunity', 'url': '/services/data/foo/bar'}}],\n",
       " 'totalSize': 1}"
      ]
     },
     "execution_count": 16,
     "metadata": {},
     "output_type": "execute_result"
    }
   ],
   "source": [
    "get('foo', None, 1).json()"
   ]
  },
  {
   "cell_type": "code",
   "execution_count": 17,
   "metadata": {},
   "outputs": [
    {
     "name": "stdout",
     "output_type": "stream",
     "text": [
      "<function get at 0x7fb025de1d08>\n"
     ]
    }
   ],
   "source": [
    "@hmemoized\n",
    "def get(url, params=None, delay=1, **kwargs):\n",
    "    \"\"\"Some sort of docstring\"\"\"\n",
    "    return dummy.get(url, params=params, delay=delay)"
   ]
  },
  {
   "cell_type": "code",
   "execution_count": 18,
   "metadata": {},
   "outputs": [
    {
     "name": "stdout",
     "output_type": "stream",
     "text": [
      "Args: (2, {'stuff': 1})\n",
      "kwArgs: {'eggs': 'yes', 'spam': True}\n"
     ]
    },
    {
     "data": {
      "text/plain": [
       "{'RetrievedDate': '2018-08-18T10:18:27.953930',\n",
       " 'done': True,\n",
       " 'records': [{'AccountId': '1337BEEF',\n",
       "   'Amount': 31415.926,\n",
       "   'CreatedDate': '2015-07-13T07:30:24.000+0000',\n",
       "   'IsClosed': True,\n",
       "   'IsWon': False,\n",
       "   'Name': 'FooBar Opportunity AAA',\n",
       "   'attributes': {'type': 'Opportunity', 'url': '/services/data/foo/bar'}}],\n",
       " 'totalSize': 1}"
      ]
     },
     "execution_count": 18,
     "metadata": {},
     "output_type": "execute_result"
    }
   ],
   "source": [
    "get(2, {'stuff':1} , spam=True, eggs='yes').json()"
   ]
  },
  {
   "cell_type": "code",
   "execution_count": 19,
   "metadata": {},
   "outputs": [],
   "source": [
    "# get({'stuff': collections})"
   ]
  },
  {
   "cell_type": "code",
   "execution_count": 20,
   "metadata": {},
   "outputs": [
    {
     "name": "stdout",
     "output_type": "stream",
     "text": [
      "deque False\n",
      "defaultdict False\n",
      "namedtuple True\n",
      "UserDict False\n",
      "UserList False\n",
      "UserString False\n",
      "Counter False\n",
      "OrderedDict False\n",
      "ChainMap False\n",
      "Awaitable False\n",
      "Coroutine False\n",
      "AsyncIterable False\n",
      "AsyncIterator False\n",
      "Hashable False\n",
      "Iterable False\n",
      "Iterator False\n",
      "Generator False\n",
      "Sized False\n",
      "Container False\n",
      "Callable False\n",
      "Set False\n",
      "MutableSet False\n",
      "Mapping False\n",
      "MutableMapping False\n",
      "MappingView False\n",
      "KeysView False\n",
      "ItemsView False\n",
      "ValuesView False\n",
      "Sequence False\n",
      "MutableSequence False\n",
      "ByteString False\n"
     ]
    }
   ],
   "source": [
    "for obj in collections.__all__:\n",
    "    cont = getattr(collections, obj)\n",
    "    try:\n",
    "        data = cont()\n",
    "    except:\n",
    "        pass\n",
    "    try:\n",
    "        data = cont('foo', 'bar')\n",
    "    except:\n",
    "        pass\n",
    "    print(\"{} {}\".format(obj, isinstance(data, collections.Hashable)))"
   ]
  },
  {
   "cell_type": "code",
   "execution_count": 21,
   "metadata": {},
   "outputs": [
    {
     "data": {
      "text/plain": [
       "False"
      ]
     },
     "execution_count": 21,
     "metadata": {},
     "output_type": "execute_result"
    }
   ],
   "source": [
    "isinstance({'foo':'bar'}, collections.Hashable)"
   ]
  },
  {
   "cell_type": "code",
   "execution_count": 22,
   "metadata": {},
   "outputs": [
    {
     "data": {
      "text/plain": [
       "frozenset({('a', 1), ('b', 2)})"
      ]
     },
     "execution_count": 22,
     "metadata": {},
     "output_type": "execute_result"
    }
   ],
   "source": [
    "frozenset({'a': 1, 'b':2}.items())"
   ]
  },
  {
   "cell_type": "code",
   "execution_count": 23,
   "metadata": {},
   "outputs": [],
   "source": [
    "dd = {'a': 1, 'b': 2, 'c': [1,2]}\n",
    "# frozenset(dd.items()) # TypeError"
   ]
  },
  {
   "cell_type": "code",
   "execution_count": 24,
   "metadata": {},
   "outputs": [
    {
     "name": "stdout",
     "output_type": "stream",
     "text": [
      "calling decorated fn. args: (123,) kwargs: frozenset({('bar', 23), ('foo', 2)})\n",
      "example\n",
      "calling example fn\n"
     ]
    }
   ],
   "source": [
    "def my_deco(f):\n",
    "    @functools.wraps(f)\n",
    "    def wrapper(*args, **kwargs):\n",
    "        print('calling decorated fn. args: {} kwargs: {}'.format(args, frozenset(kwargs.items())))\n",
    "        print(f.__name__)\n",
    "        return f(*args, **kwargs)\n",
    "    return wrapper\n",
    "\n",
    "@my_deco\n",
    "def example(*args, **kwargs):\n",
    "    \"\"\"does a thing\"\"\"\n",
    "    print('calling example fn')\n",
    "    \n",
    "example(123, foo=2, bar=23)"
   ]
  },
  {
   "cell_type": "code",
   "execution_count": 25,
   "metadata": {},
   "outputs": [
    {
     "name": "stdout",
     "output_type": "stream",
     "text": [
      "calling decorated fn. args: ('',) kwargs: frozenset()\n",
      "get\n"
     ]
    },
    {
     "data": {
      "text/plain": [
       "<Response [None]>"
      ]
     },
     "execution_count": 25,
     "metadata": {},
     "output_type": "execute_result"
    }
   ],
   "source": [
    "@my_deco\n",
    "def get(url, params=None, delay=1, **kwargs):\n",
    "    \"\"\"Some sort of docstring\"\"\"\n",
    "    return dummy.get(url, params=params, delay=delay)\n",
    "\n",
    "get('')"
   ]
  },
  {
   "cell_type": "code",
   "execution_count": 26,
   "metadata": {},
   "outputs": [
    {
     "name": "stdout",
     "output_type": "stream",
     "text": [
      "calling decorated fn. args: ('',) kwargs: frozenset()\n",
      "get\n"
     ]
    },
    {
     "data": {
      "text/plain": [
       "<Response [None]>"
      ]
     },
     "execution_count": 26,
     "metadata": {},
     "output_type": "execute_result"
    }
   ],
   "source": [
    "get('')"
   ]
  },
  {
   "cell_type": "code",
   "execution_count": 52,
   "metadata": {},
   "outputs": [
    {
     "name": "stdout",
     "output_type": "stream",
     "text": [
      "{\"@args\": [], \"@kwargs\": {}, \"@name\": null}\n",
      "{\"@args\": [1, 2, 3], \"@kwargs\": {\"foo\": 23, \"bar\": 45, \"bank\": \"$$$\"}, \"@name\": \"baz\"}\n",
      "baz\n",
      "calling baz. args: (1, 2, 3) kwargs: {'foo': 23, 'bar': 45}\n",
      "no foo here\n",
      "bank=$$$\n",
      "calling to filename. args: (1, 2, 3) kwargs: {'foo': 23, 'bar': 45}\n"
     ]
    }
   ],
   "source": [
    "\n",
    "\n",
    "def baz( *args, bank=None, **kwargs):\n",
    "    print('calling baz. args: {} kwargs: {}'.format(args, kwargs))\n",
    "\n",
    "    try:\n",
    "        print('foo={}'.format(foo))\n",
    "    except NameError:\n",
    "        print('no foo here')\n",
    "    print('bank={}'.format(bank))\n",
    "    to_filename(args, kwargs)\n",
    "    \n",
    "print(freeze_sig())\n",
    "ice = freeze_sig(baz, 1,2,3, foo=23, bar=45, bank='$$$')\n",
    "print(ice)\n",
    "name, args, kwargs = thaw_sig(ice)\n",
    "print(name)\n",
    "baz(*args, **kwargs)\n"
   ]
  },
  {
   "cell_type": "markdown",
   "metadata": {},
   "source": [
    "what we want is the ability to call baz with some keyword arguments"
   ]
  },
  {
   "cell_type": "code",
   "execution_count": 28,
   "metadata": {},
   "outputs": [
    {
     "data": {
      "text/plain": [
       "'5a4462fe9ec6087151b602f9a69bdb4f'"
      ]
     },
     "execution_count": 28,
     "metadata": {},
     "output_type": "execute_result"
    }
   ],
   "source": [
    "hash_md5(ice)"
   ]
  },
  {
   "cell_type": "markdown",
   "metadata": {},
   "source": [
    "## General decorator"
   ]
  },
  {
   "cell_type": "code",
   "execution_count": 29,
   "metadata": {},
   "outputs": [],
   "source": [
    "cache = {}\n",
    "\n",
    "def general_cacher(f):\n",
    "    print('💰 cacher')\n",
    "    @functools.wraps(f)\n",
    "    def wrapper(*args, **kwargs):\n",
    "        print('🍬 wrapper')\n",
    "        sig = freeze_sig(f, *args, **kwargs)\n",
    "        key = hash_md5(sig)\n",
    "        if key in cache:\n",
    "            data = cache[key]\n",
    "        else:\n",
    "            data = f(*args, **kwargs)\n",
    "            cache[key] = data\n",
    "        print('🍬 return')\n",
    "\n",
    "        return data\n",
    "    print('💰 return')\n",
    "    return wrapper\n",
    "\n"
   ]
  },
  {
   "cell_type": "code",
   "execution_count": 30,
   "metadata": {},
   "outputs": [
    {
     "name": "stdout",
     "output_type": "stream",
     "text": [
      "💰 cacher\n",
      "💰 return\n"
     ]
    }
   ],
   "source": [
    "@general_cacher\n",
    "def get(url, params=None, delay=1, **kwargs):\n",
    "    \"\"\"Some sort of docstring\"\"\"\n",
    "    return dummy.get(url, params=params, delay=delay)"
   ]
  },
  {
   "cell_type": "code",
   "execution_count": 31,
   "metadata": {},
   "outputs": [
    {
     "name": "stdout",
     "output_type": "stream",
     "text": [
      "🍬 wrapper\n",
      "🍬 return\n"
     ]
    },
    {
     "data": {
      "text/plain": [
       "{'RetrievedDate': '2018-08-18T10:18:31.073193',\n",
       " 'done': True,\n",
       " 'records': [{'AccountId': '1337BEEF',\n",
       "   'Amount': 31415.926,\n",
       "   'CreatedDate': '2015-07-13T07:30:24.000+0000',\n",
       "   'IsClosed': True,\n",
       "   'IsWon': False,\n",
       "   'Name': 'FooBar Opportunity AAA',\n",
       "   'attributes': {'type': 'Opportunity', 'url': '/services/data/foo/bar'}}],\n",
       " 'totalSize': 1}"
      ]
     },
     "execution_count": 31,
     "metadata": {},
     "output_type": "execute_result"
    }
   ],
   "source": [
    "get('').json()"
   ]
  },
  {
   "cell_type": "markdown",
   "metadata": {},
   "source": [
    "## Class decorator with arguments"
   ]
  },
  {
   "cell_type": "code",
   "execution_count": 46,
   "metadata": {},
   "outputs": [],
   "source": [
    "class DecoClass(object):\n",
    "    \"\"\" DecoClass Docstring\n",
    "    \"\"\"\n",
    "    def __init__(self, decoFoo=23, decoBar=42):\n",
    "        \"\"\"DecoClass constructor docstring\"\"\"\n",
    "        print(\"✬ DecoClass constructed. foo {} bar {}\".format(decoFoo, decoBar))\n",
    "        \n",
    "    def __call__(self, fn, *fnargs, **fnkwargs):\n",
    "        print(\"✬ DecoClass called\")\n",
    "        @functools.wraps(fn)\n",
    "        def new_fn(*fnargs, **fnkwargs):\n",
    "            print(\"Inner function has been decorated\")\n",
    "            sig = freeze_sig(fn, *fnargs, **fnkwargs)\n",
    "            print(\"✬✬\", sig)\n",
    "            return fn(*fnargs, **fnkwargs)\n",
    "        return new_fn"
   ]
  },
  {
   "cell_type": "code",
   "execution_count": 47,
   "metadata": {},
   "outputs": [
    {
     "name": "stdout",
     "output_type": "stream",
     "text": [
      "✬ DecoClass constructed. foo 23 bar 42\n"
     ]
    },
    {
     "data": {
      "text/plain": [
       "<__main__.DecoClass at 0x7fb025df6320>"
      ]
     },
     "execution_count": 47,
     "metadata": {},
     "output_type": "execute_result"
    }
   ],
   "source": [
    "DecoClass()"
   ]
  },
  {
   "cell_type": "code",
   "execution_count": 102,
   "metadata": {},
   "outputs": [
    {
     "name": "stdout",
     "output_type": "stream",
     "text": [
      "✬ DecoClass constructed. foo pi bar qux\n",
      "✬ DecoClass called\n"
     ]
    }
   ],
   "source": [
    "@DecoClass('pi', 'qux')\n",
    "def baz( *args, bank=None, **kwargs):\n",
    "    print('❂ calling baz. args: {} kwargs: {}'.format(args, kwargs))\n",
    "\n",
    "    try:\n",
    "        print('❂ foo={}'.format(foo))\n",
    "    except NameError:\n",
    "        print('❂ no foo here')\n",
    "    print('❂ baz bank={}'.format(bank))\n",
    "    to_filename(args, kwargs)\n",
    "    return \"bazbazbaz\"\n",
    "    "
   ]
  },
  {
   "cell_type": "code",
   "execution_count": 49,
   "metadata": {},
   "outputs": [
    {
     "name": "stdout",
     "output_type": "stream",
     "text": [
      "Inner function has been decorated\n",
      "✬✬ {\"@args\": [\"a\", \"b\", \"c\"], \"@kwargs\": {\"bazspam\": \"yay\", \"bank\": \"\\ud83d\\udcb0\\ud83d\\udcb0\"}, \"@name\": \"baz\"}\n",
      "calling baz. args: ('a', 'b', 'c') kwargs: {'bazspam': 'yay'}\n",
      "no foo here\n",
      "baz bank=💰💰\n",
      "calling to filename. args: ('a', 'b', 'c') kwargs: {'bazspam': 'yay'}\n"
     ]
    }
   ],
   "source": [
    "baz('a', 'b', 'c', bank='💰💰', bazspam='yay')\n",
    "    "
   ]
  },
  {
   "cell_type": "code",
   "execution_count": 50,
   "metadata": {},
   "outputs": [
    {
     "name": "stdout",
     "output_type": "stream",
     "text": [
      "Inner function has been decorated\n",
      "✬✬ {\"@args\": [], \"@kwargs\": {}, \"@name\": \"baz\"}\n",
      "calling baz. args: () kwargs: {}\n",
      "no foo here\n",
      "baz bank=None\n",
      "calling to filename. args: () kwargs: {}\n"
     ]
    }
   ],
   "source": [
    "exec(\"baz()\")"
   ]
  },
  {
   "cell_type": "code",
   "execution_count": 60,
   "metadata": {},
   "outputs": [
    {
     "name": "stdout",
     "output_type": "stream",
     "text": [
      "Cache was not found\n"
     ]
    }
   ],
   "source": [
    "def load_cached_data(cachePath, default=None):\n",
    "    try: \n",
    "        with open(cachePath, 'r') as fp:\n",
    "            try:\n",
    "                default = json.load(fp)\n",
    "            except ValueError:\n",
    "                print(\"🚧 functionality under construction\")\n",
    "    except FileNotFoundError:\n",
    "            print(\"Cache was not found\")\n",
    "    return default\n",
    "\n",
    "def dump_cached_data(cachePath, data):\n",
    "    with open(cachePath, 'w') as fp:\n",
    "        json.dump(data, fp)\n",
    "    \n",
    "\n",
    "load_cached_data('')"
   ]
  },
  {
   "cell_type": "code",
   "execution_count": 83,
   "metadata": {},
   "outputs": [
    {
     "name": "stdout",
     "output_type": "stream",
     "text": [
      "{2: 'b'} a\n"
     ]
    }
   ],
   "source": [
    "dd = {1: 'a', 2: 'b'}\n",
    "key = 1\n",
    "val = dd.get(key)\n",
    "if val:\n",
    "    dd.pop(key)\n",
    "print(dd, val)"
   ]
  },
  {
   "cell_type": "code",
   "execution_count": 118,
   "metadata": {},
   "outputs": [],
   "source": [
    "class BasicCachingGetter(object):\n",
    "    \"\"\"Simple cache controller for the most basic use case: wrapping requests, and saving the response as a json.\n",
    "    Really basic, no frills base use case. \n",
    "    \"\"\"\n",
    "    default_cachepath = './cache/'\n",
    "    flushKey = '_flush'\n",
    "\n",
    "    def __init__(self, basepath=None):\n",
    "        basepath = basepath if basepath is not None else BasicCachingGetter.default_cachepath\n",
    "        self.basepath = basepath\n",
    "        self.hash = hash_md5\n",
    "        self.load = load_cached_data\n",
    "        self.dump = dump_cached_data\n",
    "        make_path(basepath)\n",
    "        \n",
    "    \n",
    "\n",
    "\n",
    "    def __call__(self, fn, *fnargs, **fnkwargs):\n",
    "        print(\"💰 Basic cacher called\")\n",
    "        @functools.wraps(fn)\n",
    "        def new_fn(*fnargs, **fnkwargs):\n",
    "            key = self.flushKey\n",
    "            flush = fnkwargs.get(key)\n",
    "            if flush:\n",
    "                fnkwargs.pop(key)\n",
    "            \n",
    "            sig = freeze_sig(fn, *fnargs, **fnkwargs)\n",
    "            cachePath = \"{}/{}.json\".format(self.basepath, hash_md5(sig))\n",
    "            print(\"✬✬ Inner decorated function called\")\n",
    "            print(\"✬✬\", sig)\n",
    "            print(\"✬✬\", cachePath)\n",
    "            \n",
    "            data = None\n",
    "            if os.path.exists(cachePath) and not flush:\n",
    "                print(\"✬✬ loading\")\n",
    "                data = self.load(cachePath)\n",
    "            \n",
    "            if data is None:\n",
    "                print(\"✬✬ New fn call\")\n",
    "                data = fn(*fnargs, **fnkwargs)\n",
    "                self.dump(cachePath, data)\n",
    "\n",
    "            return data\n",
    "            \n",
    "        return new_fn\n",
    "    \n",
    "    "
   ]
  },
  {
   "cell_type": "code",
   "execution_count": 119,
   "metadata": {},
   "outputs": [
    {
     "name": "stdout",
     "output_type": "stream",
     "text": [
      "💰 Basic cacher called\n"
     ]
    }
   ],
   "source": [
    "@BasicCachingGetter()\n",
    "def baz( *args, bank=None, **kwargs):\n",
    "    print('❂ calling baz. args: {} kwargs: {}'.format(args, kwargs))\n",
    "\n",
    "    try:\n",
    "        print('❂ foo={}'.format(foo))\n",
    "    except NameError:\n",
    "        print('❂ no foo here')\n",
    "    print('❂ baz bank={}'.format(bank))\n",
    "    to_filename(args, kwargs)\n",
    "    return \"bazbazbaz\", args, kwargs"
   ]
  },
  {
   "cell_type": "code",
   "execution_count": 123,
   "metadata": {},
   "outputs": [
    {
     "name": "stdout",
     "output_type": "stream",
     "text": [
      "✬✬ Inner decorated function called\n",
      "✬✬ {\"@args\": [], \"@kwargs\": {\"bank\": \"$\"}, \"@name\": \"baz\"}\n",
      "✬✬ ./cache//429ae6cc245038d211e2f5cc87596872.json\n",
      "✬✬ New fn call\n",
      "❂ calling baz. args: () kwargs: {}\n",
      "❂ no foo here\n",
      "❂ baz bank=$\n",
      "calling to filename. args: () kwargs: {}\n"
     ]
    },
    {
     "data": {
      "text/plain": [
       "('bazbazbaz', (), {})"
      ]
     },
     "execution_count": 123,
     "metadata": {},
     "output_type": "execute_result"
    }
   ],
   "source": [
    "baz(bank='$', _flush=True)"
   ]
  },
  {
   "cell_type": "code",
   "execution_count": 129,
   "metadata": {},
   "outputs": [
    {
     "data": {
      "text/plain": [
       "'{\"@args\": [\"a\", [1, 2, {}]], \"@kwargs\": {\"bank\": {}}, \"@name\": \"baz\"}'"
      ]
     },
     "execution_count": 129,
     "metadata": {},
     "output_type": "execute_result"
    }
   ],
   "source": [
    "freeze_sig(baz, 'a', [1, 2, {}], bank={})"
   ]
  },
  {
   "cell_type": "code",
   "execution_count": null,
   "metadata": {},
   "outputs": [],
   "source": []
  }
 ],
 "metadata": {
  "kernelspec": {
   "display_name": "Python 3",
   "language": "python",
   "name": "python3"
  },
  "language_info": {
   "codemirror_mode": {
    "name": "ipython",
    "version": 3
   },
   "file_extension": ".py",
   "mimetype": "text/x-python",
   "name": "python",
   "nbconvert_exporter": "python",
   "pygments_lexer": "ipython3",
   "version": "3.5.2"
  }
 },
 "nbformat": 4,
 "nbformat_minor": 2
}
