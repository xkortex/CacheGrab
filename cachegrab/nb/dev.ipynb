{
 "cells": [
  {
   "cell_type": "code",
   "execution_count": 1,
   "metadata": {},
   "outputs": [
    {
     "name": "stdout",
     "output_type": "stream",
     "text": [
      "/home/mike/py/mylib/CacheGrab\n"
     ]
    }
   ],
   "source": [
    "import os\n",
    "try:                  # get to root of project\n",
    "    print(od)\n",
    "except NameError:\n",
    "    od = os.getcwd()\n",
    "    \n",
    "os.chdir(od + '/../..')\n",
    "print(os.getcwd())"
   ]
  },
  {
   "cell_type": "code",
   "execution_count": 37,
   "metadata": {},
   "outputs": [],
   "source": [
    "import collections\n",
    "import requests\n",
    "import json\n",
    "from time import sleep"
   ]
  },
  {
   "cell_type": "code",
   "execution_count": 3,
   "metadata": {},
   "outputs": [
    {
     "data": {
      "text/plain": [
       "module"
      ]
     },
     "execution_count": 3,
     "metadata": {},
     "output_type": "execute_result"
    }
   ],
   "source": [
    "type(requests)"
   ]
  },
  {
   "cell_type": "code",
   "execution_count": 4,
   "metadata": {
    "collapsed": true
   },
   "outputs": [],
   "source": [
    "import cachegrab as cg"
   ]
  },
  {
   "cell_type": "code",
   "execution_count": 5,
   "metadata": {
    "collapsed": true
   },
   "outputs": [],
   "source": [
    "from cachegrab.utils import dummy"
   ]
  },
  {
   "cell_type": "code",
   "execution_count": 6,
   "metadata": {},
   "outputs": [
    {
     "name": "stdout",
     "output_type": "stream",
     "text": [
      "<class 'requests.models.Response'>\n"
     ]
    },
    {
     "data": {
      "text/plain": [
       "{'RetrievedDate': '2017-12-13T07:45:09.395578',\n",
       " 'done': True,\n",
       " 'records': [{'AccountId': '1337BEEF',\n",
       "   'Amount': 31415.926,\n",
       "   'CreatedDate': '2015-07-13T07:30:24.000+0000',\n",
       "   'IsClosed': True,\n",
       "   'IsWon': False,\n",
       "   'Name': 'FooBar Opportunity AAA',\n",
       "   'attributes': {'type': 'Opportunity', 'url': '/services/data/foo/bar'}}],\n",
       " 'totalSize': 1}"
      ]
     },
     "execution_count": 6,
     "metadata": {},
     "output_type": "execute_result"
    }
   ],
   "source": [
    "resp = dummy.get('foo', params=None)\n",
    "print(type(resp))\n",
    "resp.json()"
   ]
  },
  {
   "cell_type": "code",
   "execution_count": 42,
   "metadata": {},
   "outputs": [
    {
     "name": "stdout",
     "output_type": "stream",
     "text": [
      "Args: ('foo', 'bar')\n",
      "kwArgs: {'eggs': True, 'pi': 3.14, 'spam': 2}\n"
     ]
    },
    {
     "data": {
      "text/plain": [
       "'{\"args\": [\"foo\", \"bar\"], \"kwargs\": {\"eggs\": true, \"pi\": 3.14, \"spam\": 2}}'"
      ]
     },
     "execution_count": 42,
     "metadata": {},
     "output_type": "execute_result"
    }
   ],
   "source": [
    "def try_json(*args, **kwargs):\n",
    "    # Pack args and kwargs into a JSON. If this fails, it's because one or more of the arguments is not serializable\n",
    "    print(\"Args: {}\".format(args))\n",
    "    print(\"kwArgs: {}\".format(kwargs))\n",
    "    data = {'args': args, 'kwargs': kwargs}\n",
    "    j = json.dumps(data)\n",
    "    return(j)\n",
    "\n",
    "try_json('foo', 'bar', spam=2, eggs=True, pi=3.14)"
   ]
  },
  {
   "cell_type": "code",
   "execution_count": 71,
   "metadata": {},
   "outputs": [
    {
     "name": "stdout",
     "output_type": "stream",
     "text": [
      "Args: ('foo', 'bar')\n",
      "kwArgs: {'eggs': True, 'pi': 3.14, 'spam': 2}\n",
      "['foo', 'bar']\n",
      "{'eggs': True, 'pi': 3.14, 'spam': 2}\n",
      "Args: ('foo', 'bar')\n",
      "kwArgs: {'eggs': True, 'pi': 3.14, 'spam': 2}\n"
     ]
    },
    {
     "data": {
      "text/plain": [
       "'{\"args\": [\"foo\", \"bar\"], \"kwargs\": {\"eggs\": true, \"pi\": 3.14, \"spam\": 2}}'"
      ]
     },
     "execution_count": 71,
     "metadata": {},
     "output_type": "execute_result"
    }
   ],
   "source": [
    "jtest = try_json('foo', 'bar', spam=2, eggs=True, pi=3.14)\n",
    "jdict = json.loads(jtest)\n",
    "print(jdict['args'])\n",
    "print(jdict['kwargs'])\n",
    "\n",
    "try_json(*jdict['args'], **jdict['kwargs'])"
   ]
  },
  {
   "cell_type": "code",
   "execution_count": 7,
   "metadata": {
    "collapsed": true
   },
   "outputs": [],
   "source": [
    "class memoized(object):\n",
    "    '''Basic Memoizing Decorator. Caches a function's return value each time it is called.\n",
    "    If called later with the same arguments, the cached value is returned\n",
    "    (not reevaluated).\n",
    "    From the python website, https://wiki.python.org/moin/PythonDecoratorLibrary#Memoize\n",
    "    '''\n",
    "\n",
    "    def __init__(self, func):\n",
    "        self.func = func\n",
    "        self.cache = {}\n",
    "\n",
    "    def __call__(self, *args):\n",
    "        if not isinstance(args, collections.Hashable):\n",
    "            # uncacheable. a list, for instance.\n",
    "            # better to not cache than blow up.\n",
    "            return self.func(*args)\n",
    "        if args in self.cache:\n",
    "            return self.cache[args]\n",
    "        else:\n",
    "            value = self.func(*args)\n",
    "            self.cache[args] = value\n",
    "            return value\n",
    "\n",
    "    def __repr__(self):\n",
    "        '''Return the function's docstring.'''\n",
    "        return self.func.__doc__\n",
    "\n",
    "    def __get__(self, obj, objtype):\n",
    "        '''Support instance methods.'''\n",
    "        return functools.partial(self.__call__, obj)\n"
   ]
  },
  {
   "cell_type": "code",
   "execution_count": 60,
   "metadata": {
    "collapsed": true
   },
   "outputs": [],
   "source": [
    "class hmemoized(object):\n",
    "    '''Hashing Memoizing Decorator. Caches a function's return value each time it is called.\n",
    "    If called later with the same arguments, the cached value is returned\n",
    "    (not reevaluated).\n",
    "    From the python website, https://wiki.python.org/moin/PythonDecoratorLibrary#Memoize\n",
    "    '''\n",
    "\n",
    "    def __init__(self, func):\n",
    "        self.func = func\n",
    "        print(self.func)\n",
    "        self.cache = {}\n",
    "\n",
    "    def __call__(self, *args, **kwargs):\n",
    "        key = try_json(*args, **kwargs) # will raise a TypeError from JSON if any args or kwargs are not serializable\n",
    "        if key in self.cache:\n",
    "            return self.cache[key]\n",
    "        else:\n",
    "            value = self.func(*args, **kwargs)\n",
    "            self.cache[key] = value\n",
    "            return value\n",
    "\n",
    "    def __repr__(self):\n",
    "        '''Return the function's docstring.'''\n",
    "        return self.func.__doc__\n",
    "\n",
    "    def __get__(self, obj, objtype):\n",
    "        '''Support instance methods.'''\n",
    "        return functools.partial(self.__call__, obj)"
   ]
  },
  {
   "cell_type": "code",
   "execution_count": null,
   "metadata": {
    "collapsed": true
   },
   "outputs": [],
   "source": []
  },
  {
   "cell_type": "code",
   "execution_count": 61,
   "metadata": {
    "collapsed": true
   },
   "outputs": [],
   "source": [
    "dd = requests.Response()"
   ]
  },
  {
   "cell_type": "code",
   "execution_count": 62,
   "metadata": {},
   "outputs": [],
   "source": [
    "dd._content = bytes('fooz', 'utf8') "
   ]
  },
  {
   "cell_type": "code",
   "execution_count": 63,
   "metadata": {},
   "outputs": [
    {
     "data": {
      "text/plain": [
       "'fooz'"
      ]
     },
     "execution_count": 63,
     "metadata": {},
     "output_type": "execute_result"
    }
   ],
   "source": [
    "dd.text"
   ]
  },
  {
   "cell_type": "code",
   "execution_count": 64,
   "metadata": {
    "collapsed": true
   },
   "outputs": [],
   "source": [
    "x = 'fooz'"
   ]
  },
  {
   "cell_type": "code",
   "execution_count": 65,
   "metadata": {},
   "outputs": [],
   "source": [
    "@memoized\n",
    "def get(url, params=None, delay=1):\n",
    "    \"\"\"Some sort of docstring\"\"\"\n",
    "    return dummy.get(url, params=params, delay=delay)"
   ]
  },
  {
   "cell_type": "code",
   "execution_count": 66,
   "metadata": {},
   "outputs": [
    {
     "data": {
      "text/plain": [
       "{'RetrievedDate': '2017-12-13T09:06:44.322059',\n",
       " 'done': True,\n",
       " 'records': [{'AccountId': '1337BEEF',\n",
       "   'Amount': 31415.926,\n",
       "   'CreatedDate': '2015-07-13T07:30:24.000+0000',\n",
       "   'IsClosed': True,\n",
       "   'IsWon': False,\n",
       "   'Name': 'FooBar Opportunity AAA',\n",
       "   'attributes': {'type': 'Opportunity', 'url': '/services/data/foo/bar'}}],\n",
       " 'totalSize': 1}"
      ]
     },
     "execution_count": 66,
     "metadata": {},
     "output_type": "execute_result"
    }
   ],
   "source": [
    "get('foo', None, 1).json()"
   ]
  },
  {
   "cell_type": "code",
   "execution_count": 67,
   "metadata": {},
   "outputs": [
    {
     "name": "stdout",
     "output_type": "stream",
     "text": [
      "<function get at 0x7fe5c6448d90>\n"
     ]
    }
   ],
   "source": [
    "@hmemoized\n",
    "def get(url, params=None, delay=1, **kwargs):\n",
    "    \"\"\"Some sort of docstring\"\"\"\n",
    "    return dummy.get(url, params=params, delay=delay)"
   ]
  },
  {
   "cell_type": "code",
   "execution_count": 68,
   "metadata": {},
   "outputs": [
    {
     "name": "stdout",
     "output_type": "stream",
     "text": [
      "Args: (2, {'stuff': 1})\n",
      "kwArgs: {'eggs': 'yes', 'spam': True}\n"
     ]
    },
    {
     "data": {
      "text/plain": [
       "{'RetrievedDate': '2017-12-13T09:06:46.788012',\n",
       " 'done': True,\n",
       " 'records': [{'AccountId': '1337BEEF',\n",
       "   'Amount': 31415.926,\n",
       "   'CreatedDate': '2015-07-13T07:30:24.000+0000',\n",
       "   'IsClosed': True,\n",
       "   'IsWon': False,\n",
       "   'Name': 'FooBar Opportunity AAA',\n",
       "   'attributes': {'type': 'Opportunity', 'url': '/services/data/foo/bar'}}],\n",
       " 'totalSize': 1}"
      ]
     },
     "execution_count": 68,
     "metadata": {},
     "output_type": "execute_result"
    }
   ],
   "source": [
    "get(2, {'stuff':1} , spam=True, eggs='yes').json()"
   ]
  },
  {
   "cell_type": "code",
   "execution_count": 72,
   "metadata": {},
   "outputs": [],
   "source": [
    "# get({'stuff': collections})"
   ]
  },
  {
   "cell_type": "code",
   "execution_count": 36,
   "metadata": {
    "collapsed": true
   },
   "outputs": [
    {
     "name": "stdout",
     "output_type": "stream",
     "text": [
      "deque False\n",
      "defaultdict False\n",
      "namedtuple True\n",
      "UserDict False\n",
      "UserList False\n",
      "UserString False\n",
      "Counter False\n",
      "OrderedDict False\n",
      "ChainMap False\n",
      "Awaitable False\n",
      "Coroutine False\n",
      "AsyncIterable False\n",
      "AsyncIterator False\n",
      "Hashable False\n",
      "Iterable False\n",
      "Iterator False\n",
      "Generator False\n",
      "Sized False\n",
      "Container False\n",
      "Callable False\n",
      "Set False\n",
      "MutableSet False\n",
      "Mapping False\n",
      "MutableMapping False\n",
      "MappingView False\n",
      "KeysView False\n",
      "ItemsView False\n",
      "ValuesView False\n",
      "Sequence False\n",
      "MutableSequence False\n",
      "ByteString False\n"
     ]
    }
   ],
   "source": [
    "for obj in collections.__all__:\n",
    "    cont = getattr(collections, obj)\n",
    "    try:\n",
    "        data = cont()\n",
    "    except:\n",
    "        pass\n",
    "    try:\n",
    "        data = cont('foo', 'bar')\n",
    "    except:\n",
    "        pass\n",
    "    print(\"{} {}\".format(obj, isinstance(data, collections.Hashable)))"
   ]
  },
  {
   "cell_type": "code",
   "execution_count": 32,
   "metadata": {},
   "outputs": [
    {
     "data": {
      "text/plain": [
       "False"
      ]
     },
     "execution_count": 32,
     "metadata": {},
     "output_type": "execute_result"
    }
   ],
   "source": [
    "isinstance({'foo':'bar'}, collections.Hashable)"
   ]
  },
  {
   "cell_type": "code",
   "execution_count": null,
   "metadata": {
    "collapsed": true
   },
   "outputs": [],
   "source": []
  }
 ],
 "metadata": {
  "kernelspec": {
   "display_name": "Python 3",
   "language": "python",
   "name": "python3"
  },
  "language_info": {
   "codemirror_mode": {
    "name": "ipython",
    "version": 3
   },
   "file_extension": ".py",
   "mimetype": "text/x-python",
   "name": "python",
   "nbconvert_exporter": "python",
   "pygments_lexer": "ipython3",
   "version": "3.5.2"
  }
 },
 "nbformat": 4,
 "nbformat_minor": 2
}
